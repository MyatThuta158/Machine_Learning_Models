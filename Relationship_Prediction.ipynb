{
 "cells": [
  {
   "cell_type": "code",
   "execution_count": 2,
   "id": "3a5a5109",
   "metadata": {},
   "outputs": [],
   "source": [
    "import numpy as np\n",
    "import pandas as pd\n",
    "from sklearn.metrics import accuracy_score\n",
    "from sklearn import svm\n",
    "from sklearn.preprocessing import StandardScaler\n",
    "from sklearn.model_selection import train_test_split"
   ]
  },
  {
   "cell_type": "code",
   "execution_count": 22,
   "id": "2e88ed51",
   "metadata": {},
   "outputs": [
    {
     "name": "stdout",
     "output_type": "stream",
     "text": [
      "0.608\n",
      "0.611\n",
      "[0]\n"
     ]
    }
   ],
   "source": [
    "#load the dataset \n",
    "rs_dataset=pd.read_csv('DataSets/RSPredictDataset.csv')\n",
    "rs_dataset.head()\n",
    "\n",
    "#education_level, employment_status, religious_compatibility, conflict_resolution_style, marriage_type, \n",
    "\n",
    "rs_dataset.describe()\n",
    "\n",
    "#splict the dataset to label and features\n",
    "X=rs_dataset.drop(['education_level', 'employment_status', 'religious_compatibility', 'conflict_resolution_style', 'marriage_type','divorced'],axis=1)\n",
    "Y=rs_dataset['divorced']\n",
    "\n",
    "\n",
    "#make data preprocessing \n",
    "sklearn=StandardScaler() \n",
    "sklearn.fit(X)\n",
    "X_scaler=sklearn.transform(X)\n",
    "\n",
    "#splict train and test data \n",
    "X_train,X_test,Y_train,Y_test=train_test_split(X_scaler,Y,test_size=0.2,random_state=2)\n",
    "\n",
    "#train with model \n",
    "model=svm.SVC(kernel='linear')\n",
    "model.fit(X_train,Y_train)\n",
    "\n",
    "#test the accuracy score \n",
    "train_score=accuracy_score(Y_train,model.predict(X_train))\n",
    "test_score=accuracy_score(Y_test,model.predict(X_test))\n",
    "\n",
    "print(train_score)\n",
    "print(test_score)\n",
    "\n",
    "# prepare a single sample for prediction:\n",
    "#make prediction process \n",
    "# assuming X is the DataFrame you used to fit the scaler\n",
    "input_data = (26,2,2,63986,1,4.826261815687056,1,9.431153903611612,0,0,1,5.771259248831827,4,1,0,10.0,)\n",
    "input_df = pd.DataFrame([input_data], columns=X.columns)   # keep same column order/names\n",
    "std_data = sklearn.transform(input_df)\n",
    "prediction = model.predict(std_data)\n",
    "\n",
    "print(prediction)\n",
    "\n"
   ]
  }
 ],
 "metadata": {
  "kernelspec": {
   "display_name": "anaconda3",
   "language": "python",
   "name": "python3"
  },
  "language_info": {
   "codemirror_mode": {
    "name": "ipython",
    "version": 3
   },
   "file_extension": ".py",
   "mimetype": "text/x-python",
   "name": "python",
   "nbconvert_exporter": "python",
   "pygments_lexer": "ipython3",
   "version": "3.13.5"
  }
 },
 "nbformat": 4,
 "nbformat_minor": 5
}
