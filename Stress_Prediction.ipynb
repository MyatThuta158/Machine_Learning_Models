import pandas as pd
import numpy as np
from sklearn.preprocessing import StandardScaler
from sklearn.metrics import accuracy_score
from sklearn.model_selection import train_test_split
from sklearn import svm

#load the dataset
StressData=pd.read_csv('sample_data/StressLevelDataSet.csv')

StressData.head()

StressData.shape

StressData.describe()
#data spliting for pre processing 
X=StressData.drop(['Stress_Detection','Gender','Occupation','Marital_Status','Wake_Up_Time','Bed_Time','Smoking_Habit','Meditation_Practice','Exercise_Type'],axis=1)
Y=StressData['Stress_Detection']

#data preprocessing 
Scaler=StandardScaler()
Scaler.fit(X)
X_scaler=Scaler.transform(X)

#split train and test dataset
X_train,X_test,Y_train,Y_test=train_test_split(X_scaler,Y,test_size=0.2,random_state=2)

#train the model 
model=svm.SVC(kernel='linear')
model.fit(X_train,Y_train)

#test the accuracy score
train_score=accuracy_score(Y_train,model.predict(X_train))
test_score=accuracy_score(Y_test,model.predict(X_test))

#make prediction process 
# assuming X is the DataFrame you used to fit the scaler
input_data = (42,7,4,2,5,1,1,8,2,3,130,210,105)
input_df = pd.DataFrame([input_data], columns=X.columns)   # keep same column order/names
std_data = Scaler.transform(input_df)
prediction = model.predict(std_data)

print(prediction)
