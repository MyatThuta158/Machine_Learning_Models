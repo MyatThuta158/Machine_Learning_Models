{
 "cells": [
  {
   "cell_type": "code",
   "execution_count": 37,
   "id": "ca5b4f30",
   "metadata": {},
   "outputs": [
    {
     "name": "stdout",
     "output_type": "stream",
     "text": [
      "standardized input: [[ 0.61224759  0.6894997   0.87092765  0.48548982  0.84009259 -0.41702883\n",
      "   0.98166365  0.87888327 -0.7012223   0.13122359  0.67641928  1.41127648\n",
      "   1.18927733]]\n",
      "raw prediction: ['Presence']\n"
     ]
    },
    {
     "name": "stderr",
     "output_type": "stream",
     "text": [
      "c:\\Users\\msi\\anaconda3\\Lib\\site-packages\\sklearn\\base.py:493: UserWarning: X does not have valid feature names, but StandardScaler was fitted with feature names\n",
      "  warnings.warn(\n"
     ]
    }
   ],
   "source": [
    "import numpy as np \n",
    "import pandas as pd \n",
    "from sklearn.model_selection import train_test_split\n",
    "from sklearn.preprocessing import StandardScaler \n",
    "from sklearn import svm \n",
    "from sklearn.metrics import accuracy_score\n",
    "\n",
    "#read the csv data set file \n",
    "heart_disease_data=pd.read_csv('Datasets/Heart_Disease_Prediction.csv')\n",
    "\n",
    "#making data preprocessing to train the model \n",
    "heart_disease_data.shape\n",
    "heart_disease_data.describe()\n",
    "heart_disease_data.head()\n",
    "heart_disease_data['Heart Disease'].value_counts()\n",
    "heart_disease_data.groupby('Heart Disease').mean()\n",
    "\n",
    "#separating the data and labels \n",
    "X=heart_disease_data.drop(columns='Heart Disease',axis=1)\n",
    "Y=heart_disease_data['Heart Disease']\n",
    "\n",
    "#standartize the dataset \n",
    "standardScalar=StandardScaler() \n",
    "standardScalar.fit(X)\n",
    "X_stand=standardScalar.transform(X)\n",
    "\n",
    "#preparing the training and testing data\n",
    "X_train,X_test,Y_train,Y_test=train_test_split(X_stand,Y,test_size=0.2,random_state=2)\n",
    "\n",
    "#Model training \n",
    "model=svm.SVC(kernel='linear')\n",
    "model.fit(X_train,Y_train)\n",
    "\n",
    "#evaluate the accuracy score \n",
    "train_X=accuracy_score(Y_train,model.predict(X_train))\n",
    "test_X=accuracy_score(Y_test,model.predict(X_test))\n",
    "\n",
    "\n",
    "\n",
    "#Making heart disease prediction system \n",
    "\n",
    "input_data = (60,1,4,140,293,0,2,170,0,1.2,2,2,7)  \n",
    "\n",
    "# change the input data to numpy array and ensure float dtype\n",
    "input_data_as_numpy_array = np.array(input_data, dtype=float)\n",
    "\n",
    "# reshape the array as we are predicting for one instance\n",
    "input_data_reshape = input_data_as_numpy_array.reshape(1, -1)\n",
    "\n",
    "# standardize the input data (make sure the scaler variable name matches yours)\n",
    "std_data = standardScalar.transform(input_data_reshape)\n",
    "\n",
    "print(\"standardized input:\", std_data)\n",
    "\n",
    "prediction = model.predict(std_data)\n",
    "print(\"raw prediction:\", prediction)\n",
    "\n",
    "\n"
   ]
  }
 ],
 "metadata": {
  "kernelspec": {
   "display_name": "base",
   "language": "python",
   "name": "python3"
  },
  "language_info": {
   "codemirror_mode": {
    "name": "ipython",
    "version": 3
   },
   "file_extension": ".py",
   "mimetype": "text/x-python",
   "name": "python",
   "nbconvert_exporter": "python",
   "pygments_lexer": "ipython3",
   "version": "3.12.7"
  }
 },
 "nbformat": 4,
 "nbformat_minor": 5
}
