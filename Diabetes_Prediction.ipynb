{
 "cells": [
  {
   "cell_type": "markdown",
   "id": "60f1f1a5",
   "metadata": {},
   "source": [
    "Importing the dependencies"
   ]
  },
  {
   "cell_type": "code",
   "execution_count": null,
   "id": "ad73d464",
   "metadata": {
    "vscode": {
     "languageId": "plaintext"
    }
   },
   "outputs": [],
   "source": [
    "import numpy as np \n",
    "import pandas as pd \n",
    "from sklearn.preprocessing import StandardScaler\n",
    "from sklearn.model_selection import train_test_split\n",
    "from sklearn import svm\n",
    "from sklearn.metrics import accuracy_score"
   ]
  },
  {
   "cell_type": "markdown",
   "id": "bf0891a9",
   "metadata": {},
   "source": [
    "Data collection and analysis\n",
    "PIMA diabetes dataset"
   ]
  },
  {
   "cell_type": "code",
   "execution_count": null,
   "id": "efba4961",
   "metadata": {
    "vscode": {
     "languageId": "plaintext"
    }
   },
   "outputs": [],
   "source": [
    "#loading the diabetes dataset to a pandas dataframe\n",
    "diabetes_dataset=pd.read_csv('DataSets/diabetes_dataset.csv',header=None)\n",
    "\n",
    "pd.read_csv?\n",
    "\n",
    "#printing the first five row of dataset \n",
    "diabetes_dataset.head()\n",
    "\n",
    "# number of rows and columns in this dataset\n",
    "diabetes_dataset.shape()\n",
    "\n",
    "#getting the statistical measure of the data \n",
    "diabetes_dataset.describe()\n",
    "\n",
    "diabetes_dataset['Outcome'].value_count();\n",
    "\n",
    "# 0--> non diabetes people, 1 ---> people with diabetes\n",
    "\n",
    "diabetes_dataset.groupby('Outcome').mean()\n",
    "\n",
    "#separating the data and labels\n",
    "X=diabetes_dataset.drop(columns='Outcome',axis=1)\n",
    "Y=diabetes_dataset['Outcome']\n",
    "\n",
    "print(X)\n",
    "print(Y)\n",
    "\n",
    "#Data standardize the model\n",
    "scaler=StandardScaler()\n",
    "\n",
    "scaler.fit(X)\n",
    "standardized_data=scaler.transform(X)\n",
    "print(standardized_data)\n",
    "\n",
    "\n",
    "X=standardized_data\n",
    "Y=diabetes_dataset['Outcome']\n",
    "\n",
    "#Train Test Split\n",
    "X_train,X_test,Y_train,Y_test=train_test_split(X,Y,test_size=0.2,stratify=Y,random_state=2)\n",
    "\n",
    "print(X.shape,X_train.shape,X_test.shape)\n",
    "\n",
    "#Training the model\n",
    "classifier=svm.SVC(kernel='linear')\n",
    "\n",
    "#training the support vector machine classifier\n",
    "classifier.fit(X_train,Y_train)\n",
    "\n",
    "#evaluate the model \n",
    "#finding the accuracy score\n",
    "#accuracy score on the training data\n",
    "X_train_predict=classifier.predict(X_train)\n",
    "training_data_accuracy=accuracy_score(X_train_predict,Y_train)\n",
    "\n",
    "print('Accuracy score of the training data',training_data_accuracy)\n",
    "\n",
    "#testing the training model \n",
    "X_test_predict=classifier.predict(X_test)\n",
    "test_data_accuracy=accuracy_score(X_test_predict,Y_test)\n",
    "print('Accuracy score of the test data',test_data_accuracy)"
   ]
  },
  {
   "cell_type": "markdown",
   "id": "a7fe84b0",
   "metadata": {},
   "source": [
    "Making a predictive system"
   ]
  },
  {
   "cell_type": "code",
   "execution_count": null,
   "id": "ca3a5552",
   "metadata": {
    "vscode": {
     "languageId": "plaintext"
    }
   },
   "outputs": [],
   "source": [
    "input_data=() #<-------need to add data\n",
    "\n",
    "#change the input data to numpy array\n",
    "input_data_as_numpy_array=np.array(input_data)\n",
    "\n",
    "#reshape the array as we are predicting for one instance \n",
    "input_data_reshape=input_data_as_numpy_array.reshape(1,-1)\n",
    "\n",
    "#standardize the input data \n",
    "std_data=scaler.transform(input_data_reshape)\n",
    "print(std_data)\n",
    "\n",
    "prediction=classifier.predict(std_data)\n",
    "print(prediction)\n",
    "\n",
    "if(prediction[0]==0):\n",
    "print('The Person is not diabetic')\n",
    "else\n",
    "print('The person is diabetes')"
   ]
  }
 ],
 "metadata": {
  "language_info": {
   "name": "python"
  }
 },
 "nbformat": 4,
 "nbformat_minor": 5
}
