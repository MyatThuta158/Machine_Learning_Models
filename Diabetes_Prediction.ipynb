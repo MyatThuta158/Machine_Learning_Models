{
 "cells": [
  {
   "cell_type": "markdown",
   "id": "60f1f1a5",
   "metadata": {},
   "source": [
    "Importing the dependencies"
   ]
  },
  {
   "cell_type": "code",
   "execution_count": null,
   "id": "ad73d464",
   "metadata": {
    "vscode": {
     "languageId": "plaintext"
    }
   },
   "outputs": [],
   "source": [
    "import numpy as np \n",
    "import pandas as pd \n",
    "from sklearn.preprocessing import StandardScaler\n",
    "from sklearn.model_selection import train_test_split\n",
    "from sklearn import svm\n",
    "from sklearn.metrics import accuracy_score"
   ]
  },
  {
   "cell_type": "markdown",
   "id": "bf0891a9",
   "metadata": {},
   "source": [
    "Data collection and analysis\n",
    "PIMA diabetes dataset"
   ]
  },
  {
   "cell_type": "code",
   "execution_count": null,
   "id": "efba4961",
   "metadata": {
    "vscode": {
     "languageId": "plaintext"
    }
   },
   "outputs": [],
   "source": [
    "#loading the diabetes dataset to a pandas dataframe\n",
    "diabetes_dataset=pd.read_csv('DataSets/diabetes_dataset.csv',header=None)\n",
    "\n",
    "pd.read_csv?\n",
    "\n",
    "#printing the first five row of dataset \n",
    "diabetes_dataset.head()\n",
    "\n",
    "#"
   ]
  }
 ],
 "metadata": {
  "language_info": {
   "name": "python"
  }
 },
 "nbformat": 4,
 "nbformat_minor": 5
}
