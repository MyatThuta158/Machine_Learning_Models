{
 "cells": [
  {
   "cell_type": "code",
   "execution_count": 3,
   "id": "b69f775f",
   "metadata": {},
   "outputs": [
    {
     "name": "stdout",
     "output_type": "stream",
     "text": [
      "[1]\n"
     ]
    }
   ],
   "source": [
    "import numpy as np \n",
    "import pandas as pd \n",
    "from sklearn.model_selection import train_test_split\n",
    "from sklearn.preprocessing import StandardScaler \n",
    "from sklearn import svm \n",
    "from sklearn.metrics import accuracy_score\n",
    "\n",
    "\n",
    "weather_dataset=pd.read_csv('Datasets/WeatherDataset.csv')\n",
    "weather_dataset.head()\n",
    "weather_dataset.shape\n",
    "\n",
    "\n",
    "weather_dataset.describe()\n",
    "\n",
    "#separate the column for labels \n",
    "X = weather_dataset.drop(['Rain Tomorrow','Date','Location'], axis=1)\n",
    "Y = weather_dataset['Rain Tomorrow']\n",
    "\n",
    "#for data preprocessing \n",
    "scaler=StandardScaler()\n",
    "scaler.fit(X)\n",
    "X_scale=scaler.transform(X)\n",
    "\n",
    "#spliting training and testing data \n",
    "X_train,X_test,Y_train,Y_test=train_test_split(X_scale,Y,test_size=0.2,random_state=2)\n",
    "\n",
    "#make model training \n",
    "model=svm.SVC(kernel='linear')\n",
    "model.fit(X_train,Y_train)\n",
    "\n",
    "#test the accuracy score \n",
    "X_score=accuracy_score(Y_train,model.predict(X_train))\n",
    "Y_score=accuracy_score(Y_test,model.predict(X_test))\n",
    "\n",
    "#make prediction process \n",
    "# assuming X is the DataFrame you used to fit the scaler\n",
    "input_data = (19.2,92,6.1,5.8,92,1001)\n",
    "input_df = pd.DataFrame([input_data], columns=X.columns)   # keep same column order/names\n",
    "std_data = scaler.transform(input_df)\n",
    "prediction = model.predict(std_data)\n",
    "\n",
    "print(prediction)"
   ]
  },
  {
   "cell_type": "code",
   "execution_count": null,
   "id": "b1a1c123",
   "metadata": {},
   "outputs": [],
   "source": []
  }
 ],
 "metadata": {
  "kernelspec": {
   "display_name": "base",
   "language": "python",
   "name": "python3"
  },
  "language_info": {
   "codemirror_mode": {
    "name": "ipython",
    "version": 3
   },
   "file_extension": ".py",
   "mimetype": "text/x-python",
   "name": "python",
   "nbconvert_exporter": "python",
   "pygments_lexer": "ipython3",
   "version": "3.12.7"
  }
 },
 "nbformat": 4,
 "nbformat_minor": 5
}
