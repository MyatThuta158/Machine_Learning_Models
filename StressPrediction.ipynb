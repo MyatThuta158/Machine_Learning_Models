{
 "cells": [
  {
   "cell_type": "code",
   "execution_count": null,
   "id": "57848db7",
   "metadata": {
    "vscode": {
     "languageId": "plaintext"
    }
   },
   "outputs": [],
   "source": [
    "import pandas as pd\n",
    "import numpy as np\n",
    "from sklearn.preprocessing import StandardScaler\n",
    "from sklearn.metrics import accuracy_score\n",
    "from sklearn.model_selection import train_test_split\n",
    "from sklearn import svm\n",
    "\n",
    "#load the dataset\n",
    "StressData=pd.read_csv('sample_data/StressLevelDataSet.csv')\n",
    "\n",
    "StressData.head()\n",
    "\n",
    "StressData.shape\n",
    "\n",
    "StressData.describe()\n",
    "#data spliting for pre processing \n",
    "X=StressData.drop(['Stress_Detection','Gender','Occupation','Marital_Status','Wake_Up_Time','Bed_Time','Smoking_Habit','Meditation_Practice','Exercise_Type'],axis=1)\n",
    "Y=StressData['Stress_Detection']\n",
    "\n",
    "#data preprocessing \n",
    "Scaler=StandardScaler()\n",
    "Scaler.fit(X)\n",
    "X_scaler=Scaler.transform(X)\n",
    "\n",
    "#split train and test dataset\n",
    "X_train,X_test,Y_train,Y_test=train_test_split(X_scaler,Y,test_size=0.2,random_state=2)\n",
    "\n",
    "#train the model \n",
    "model=svm.SVC(kernel='linear')\n",
    "model.fit(X_train,Y_train)\n",
    "\n",
    "#test the accuracy score\n",
    "train_score=accuracy_score(Y_train,model.predict(X_train))\n",
    "test_score=accuracy_score(Y_test,model.predict(X_test))\n",
    "\n",
    "#make prediction process \n",
    "# assuming X is the DataFrame you used to fit the scaler\n",
    "input_data = (42,7,4,2,5,1,1,8,2,3,130,210,105)\n",
    "input_df = pd.DataFrame([input_data], columns=X.columns)   # keep same column order/names\n",
    "std_data = Scaler.transform(input_df)\n",
    "prediction = model.predict(std_data)\n",
    "\n",
    "print(prediction)\n"
   ]
  }
 ],
 "metadata": {
  "language_info": {
   "name": "python"
  }
 },
 "nbformat": 4,
 "nbformat_minor": 5
}
